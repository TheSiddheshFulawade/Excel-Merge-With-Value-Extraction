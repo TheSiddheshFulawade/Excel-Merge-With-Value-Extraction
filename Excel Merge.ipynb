{
 "cells": [
  {
   "cell_type": "code",
   "execution_count": 1,
   "id": "ca4e120f",
   "metadata": {},
   "outputs": [],
   "source": [
    "import os\n",
    "import pandas as pd\n",
    "\n",
    "#Path to your excel files\n",
    "directory = r'C:\\Users\\swara\\Untitled Folder\\Excel'\n",
    "\n",
    "values = []\n",
    "file_names = []\n",
    "\n",
    "for filename in os.listdir(directory):\n",
    "    if filename.endswith('.xlsx') or filename.endswith('.xls'):\n",
    "        file_path = os.path.join(directory, filename)\n",
    "        \n",
    "        # Read the Excel file\n",
    "        df = pd.read_excel(file_path, header=None)\n",
    "        \n",
    "        for row in df.values:\n",
    "            for cell in row:\n",
    "                if isinstance(cell, str) and cell.startswith('MUM'): #String starting with MUM\n",
    "                    values.append(cell)\n",
    "                    file_names.append(filename)\n",
    "\n",
    "output_df = pd.DataFrame({'Value': values, 'File Name': file_names})\n",
    "\n",
    "output_df.to_excel('Merged.xlsx', index=False) #Creating the Excel File\n"
   ]
  },
  {
   "cell_type": "code",
   "execution_count": null,
   "id": "da718d9f",
   "metadata": {},
   "outputs": [],
   "source": []
  }
 ],
 "metadata": {
  "kernelspec": {
   "display_name": "Python 3 (ipykernel)",
   "language": "python",
   "name": "python3"
  },
  "language_info": {
   "codemirror_mode": {
    "name": "ipython",
    "version": 3
   },
   "file_extension": ".py",
   "mimetype": "text/x-python",
   "name": "python",
   "nbconvert_exporter": "python",
   "pygments_lexer": "ipython3",
   "version": "3.9.12"
  }
 },
 "nbformat": 4,
 "nbformat_minor": 5
}
